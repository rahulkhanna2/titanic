{
 "cells": [
  {
   "cell_type": "code",
   "execution_count": 3,
   "metadata": {},
   "outputs": [],
   "source": [
    "from flask import Flask, request\n",
    "import os"
   ]
  },
  {
   "cell_type": "code",
   "execution_count": 5,
   "metadata": {},
   "outputs": [],
   "source": [
    "machine_learning_api = os.path.join(os.path.pardir, \"src\", \"models\", 'machine_learning_api.py')"
   ]
  },
  {
   "cell_type": "code",
   "execution_count": 6,
   "metadata": {},
   "outputs": [
    {
     "name": "stdout",
     "output_type": "stream",
     "text": [
      "Writing ..\\src\\models\\machine_learning_api.py\n"
     ]
    }
   ],
   "source": [
    "%%writefile $machine_learning_api\n",
    "\n",
    "import pandas as pd\n",
    "import requests\n",
    "import json\n",
    "import pickle\n",
    "import numpy as np\n",
    "\n",
    "app = Flash(__name__)\n",
    "model_path = os.path.join(os.path.pardir, os.path.pardir, 'models')\n",
    "model_filepath = os.path.join(model_path, \"lr_model.pkl\")\n",
    "scalar_filepath = os.path.join(model_path, \"lr_scalar.pkl\")\n",
    "\n",
    "scalar = pickle.load(open(scalar_filepath))\n",
    "model = pickle.load(open(model_filepath))\n",
    "\n"
   ]
  },
  {
   "cell_type": "code",
   "execution_count": null,
   "metadata": {},
   "outputs": [],
   "source": []
  }
 ],
 "metadata": {
  "kernelspec": {
   "display_name": "Python 3",
   "language": "python",
   "name": "python3"
  },
  "language_info": {
   "codemirror_mode": {
    "name": "ipython",
    "version": 3
   },
   "file_extension": ".py",
   "mimetype": "text/x-python",
   "name": "python",
   "nbconvert_exporter": "python",
   "pygments_lexer": "ipython3",
   "version": "3.6.4"
  }
 },
 "nbformat": 4,
 "nbformat_minor": 2
}
